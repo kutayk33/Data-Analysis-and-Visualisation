{
 "metadata": {
  "language_info": {
   "codemirror_mode": {
    "name": "ipython",
    "version": 3
   },
   "file_extension": ".py",
   "mimetype": "text/x-python",
   "name": "python",
   "nbconvert_exporter": "python",
   "pygments_lexer": "ipython3",
   "version": "3.8.3-final"
  },
  "orig_nbformat": 2,
  "kernelspec": {
   "name": "python3",
   "display_name": "Python 3",
   "language": "python"
  }
 },
 "nbformat": 4,
 "nbformat_minor": 2,
 "cells": [
  {
   "source": [
    "# 1. Problématiques de Business \n",
    "\n",
    "Notre client c'est une jeune start'up spécialisée dans l'alimentation végan souhaite développer son nouveau concept sur le territoire Français: des ateliers de cuisine vegan. \n",
    "\n",
    "Potantiel problématiques à répondre sont suivantes :\n",
    "\n",
    "- Quel intérêt porte les Français à la cuisine Végan\n",
    "- Quels sont les plats tendances\n",
    "- Quels sont les sites géographiques dans lesquels il serait le plus intéressant de s'implanter"
   ],
   "cell_type": "markdown",
   "metadata": {}
  },
  {
   "source": [
    "# 2. Data Acquisition\n",
    "\n",
    "- Pour acquérir les datasets, je vais principalement utiliser le site web google trend"
   ],
   "cell_type": "markdown",
   "metadata": {}
  },
  {
   "source": [
    "## Import Librairies"
   ],
   "cell_type": "markdown",
   "metadata": {}
  },
  {
   "cell_type": "code",
   "execution_count": 94,
   "metadata": {},
   "outputs": [],
   "source": [
    "import numpy as np # to handle data in a vectorized manner\n",
    "import pandas as pd # for data analsysis\n",
    "import matplotlib.pyplot as plt \n",
    "import matplotlib.cm as cm\n",
    "import matplotlib.colors as colors\n",
    "import seaborn as sns\n",
    "import folium # map rendering\n",
    "\n",
    "import glob\n",
    "\n",
    "pd.set_option(\"display.max_columns\", None) # to be able to see all columns\n",
    "pd.set_option(\"display.max_rows\", None) # to be able to see all rows\n"
   ]
  },
  {
   "source": [
    "- On examine d'abord les sites géographiques dans lesquels il serait plus intéressant de s'implanter"
   ],
   "cell_type": "markdown",
   "metadata": {}
  },
  {
   "cell_type": "code",
   "execution_count": 137,
   "metadata": {},
   "outputs": [
    {
     "output_type": "execute_result",
     "data": {
      "text/plain": [
       "      Semaine  Vegan\n",
       "0  2015-12-13   45.4\n",
       "1  2015-12-20   47.4\n",
       "2  2015-12-27   50.8\n",
       "3  2016-01-03   46.6\n",
       "4  2016-01-10   38.8"
      ],
      "text/html": "<div>\n<style scoped>\n    .dataframe tbody tr th:only-of-type {\n        vertical-align: middle;\n    }\n\n    .dataframe tbody tr th {\n        vertical-align: top;\n    }\n\n    .dataframe thead th {\n        text-align: right;\n    }\n</style>\n<table border=\"1\" class=\"dataframe\">\n  <thead>\n    <tr style=\"text-align: right;\">\n      <th></th>\n      <th>Semaine</th>\n      <th>Vegan</th>\n    </tr>\n  </thead>\n  <tbody>\n    <tr>\n      <th>0</th>\n      <td>2015-12-13</td>\n      <td>45.4</td>\n    </tr>\n    <tr>\n      <th>1</th>\n      <td>2015-12-20</td>\n      <td>47.4</td>\n    </tr>\n    <tr>\n      <th>2</th>\n      <td>2015-12-27</td>\n      <td>50.8</td>\n    </tr>\n    <tr>\n      <th>3</th>\n      <td>2016-01-03</td>\n      <td>46.6</td>\n    </tr>\n    <tr>\n      <th>4</th>\n      <td>2016-01-10</td>\n      <td>38.8</td>\n    </tr>\n  </tbody>\n</table>\n</div>"
     },
     "metadata": {},
     "execution_count": 137
    }
   ],
   "source": [
    "from functools import reduce\n",
    "\n",
    "files = glob.glob('dataset_k/1.*')\n",
    "\n",
    "liste_dfs=[]\n",
    "\n",
    "for nom_file in files :\n",
    "    df = pd.read_csv(nom_file,skiprows=1) #index_col=None, header=0\n",
    "    liste_dfs.append(df)\n",
    "\n",
    "df_vegan_temps = reduce(lambda x, y: pd.merge(x, y, on = 'Semaine'), liste_dfs)\n",
    "df_vegan_temps['Vegan'] = (df_vegan_temps['cuisine vegan: (France)']+df_vegan_temps['cuisine végétarienne: (France)']+\n",
    "                           df_vegan_temps['vegan: (France)']+df_vegan_temps['Véganisme: (France)']+df_vegan_temps['végétarien: (France)'])/5\n",
    "\n",
    "df_vegan_temps.drop(df_vegan_temps.columns[[1,2,3,4,5]],axis=1,inplace=True)\n",
    "df_vegan_temps.head(5)\n",
    "\n"
   ]
  },
  {
   "cell_type": "code",
   "execution_count": 93,
   "metadata": {},
   "outputs": [
    {
     "output_type": "execute_result",
     "data": {
      "text/plain": [
       "                                                plat  popularite\n",
       "0                                   Tacos végétarien          99\n",
       "1                             Lasagnes végétariennes          92\n",
       "2  Croque-monsieur végétarien avocat, mozzarella ...          91\n",
       "3                 Burger végétarien aux pois chiches          91\n",
       "4                              Wok végétarien quinoa          90"
      ],
      "text/html": "<div>\n<style scoped>\n    .dataframe tbody tr th:only-of-type {\n        vertical-align: middle;\n    }\n\n    .dataframe tbody tr th {\n        vertical-align: top;\n    }\n\n    .dataframe thead th {\n        text-align: right;\n    }\n</style>\n<table border=\"1\" class=\"dataframe\">\n  <thead>\n    <tr style=\"text-align: right;\">\n      <th></th>\n      <th>plat</th>\n      <th>popularite</th>\n    </tr>\n  </thead>\n  <tbody>\n    <tr>\n      <th>0</th>\n      <td>Tacos végétarien</td>\n      <td>99</td>\n    </tr>\n    <tr>\n      <th>1</th>\n      <td>Lasagnes végétariennes</td>\n      <td>92</td>\n    </tr>\n    <tr>\n      <th>2</th>\n      <td>Croque-monsieur végétarien avocat, mozzarella ...</td>\n      <td>91</td>\n    </tr>\n    <tr>\n      <th>3</th>\n      <td>Burger végétarien aux pois chiches</td>\n      <td>91</td>\n    </tr>\n    <tr>\n      <th>4</th>\n      <td>Wok végétarien quinoa</td>\n      <td>90</td>\n    </tr>\n  </tbody>\n</table>\n</div>"
     },
     "metadata": {},
     "execution_count": 93
    }
   ],
   "source": [
    "list_plat = [\n",
    "'Chili végétarien','Lasagnes végétariennes','Lasagnes aux légumes et feta façon végétarienne',\n",
    "'Biryani végétarien','Paëlla végétarienne','Lasagnes végétariennes au Thermomix','Chili con carne végétarien','Couscous végétarien','Moussaka végétarienne','Maghmouh libanais ou moussaka végétarienne','Fajitas végétarienne à l’avocat','Tacos végétarien','Sushis végétariens','Bo Bun végétarien','Risotto aux champignons végétarien','Risotto aux tomates végétarien','Pizza végétarienne','Fondue chinoise végétarienne végétarien','Pad thaï végétarien','Tajine végétarien aux pruneaux','Cannelloni végétariens','Burritos végétariens au quinoa épicé','Tagliatelles végétarienne à la bolognaise','Makis végétarien','Dahl de lentilles indien végétarien','Curry végétarien','Calzone végétarienne','Mafé végétarien','Pâtes chinoises végétariennes','Riz cantonais végétarien','Wok végétarien quinoa','Quesadillas végétariennes','Burger végétarien au steak de soja','Burger végétarien aux pois chiches','Burger végétarien aux lentilles','Burger végétarien à la galette de semoule','Hamburger végétarien sauce au yaourth','Hamburger végétarien','Burger végétarien au steak de carottes','Burger végétarien au steak de betterave','Burger végétarien au steak de millet à l’avocat et à l’oignon rouge','Burger végétarien aux courgettes','Burger végétarien au tofu','Burger végétarien à la galette de semoule',\n",
    "'Burger végétarien au palet de petits pois à l’oeuf','Hamburger végétarien','Burgers végétariens au fromage de chèvre','Burger rose végétarien, betteraves, haricots et oignons rouges',\n",
    "'Hachis parmentier végétarien','Raclette végétarienne','Courgettes farcies végétariennes','Poivrons farcis végétariens','Potée de légumes végétarienne','Papillotes végétariennes de lentilles au curry et légumes à la feta','Assiette végétarienne','Cassoulet végétarien','Saucisse végétarienne','Boudin blanc végétarien','Poêlée végétarienne','Croque végétarien','Croque-monsieur végétarien avocat, mozzarella et épinards','Blanquette végétarienne au seitan','Potée aux lentilles végétarienne facile','Tartiflette végétarienne','Gratin végétarien','Pot au feu végétarien de poireaux','Raclette végétarienne','Gratin de potimarron végétarien','Choux de bruxelles braisés à la marjolaine végétarien','Vichyssoise végétarien','Bourguignon végétarien au tofu et seitan']\n",
    "\n",
    "np.random.seed(seed=42)\n",
    "tendences = np.random.randint(0,100, len(list_plat))\n",
    "\n",
    "df_plats_tendences = pd.DataFrame(data = {'plat' : list_plat, 'popularite' : tendences})\n",
    "df_plats_tendences.sort_values(['popularite'], ignore_index=True, inplace=True, ascending=False)\n",
    "df_plats_tendences.head(5)"
   ]
  },
  {
   "cell_type": "code",
   "execution_count": 92,
   "metadata": {},
   "outputs": [
    {
     "output_type": "execute_result",
     "data": {
      "text/plain": [
       "             Ville  Vegan Population\n",
       "1       Strasbourg     98    280 966\n",
       "2           Annecy     90    126 924\n",
       "3             Nice     88    340 017\n",
       "4        Montreuil     88    109 897\n",
       "5  Aix-en-Provence     83    142 482"
      ],
      "text/html": "<div>\n<style scoped>\n    .dataframe tbody tr th:only-of-type {\n        vertical-align: middle;\n    }\n\n    .dataframe tbody tr th {\n        vertical-align: top;\n    }\n\n    .dataframe thead th {\n        text-align: right;\n    }\n</style>\n<table border=\"1\" class=\"dataframe\">\n  <thead>\n    <tr style=\"text-align: right;\">\n      <th></th>\n      <th>Ville</th>\n      <th>Vegan</th>\n      <th>Population</th>\n    </tr>\n  </thead>\n  <tbody>\n    <tr>\n      <th>1</th>\n      <td>Strasbourg</td>\n      <td>98</td>\n      <td>280 966</td>\n    </tr>\n    <tr>\n      <th>2</th>\n      <td>Annecy</td>\n      <td>90</td>\n      <td>126 924</td>\n    </tr>\n    <tr>\n      <th>3</th>\n      <td>Nice</td>\n      <td>88</td>\n      <td>340 017</td>\n    </tr>\n    <tr>\n      <th>4</th>\n      <td>Montreuil</td>\n      <td>88</td>\n      <td>109 897</td>\n    </tr>\n    <tr>\n      <th>5</th>\n      <td>Aix-en-Provence</td>\n      <td>83</td>\n      <td>142 482</td>\n    </tr>\n  </tbody>\n</table>\n</div>"
     },
     "metadata": {},
     "execution_count": 92
    }
   ],
   "source": [
    "df_ville = pd.read_csv('dataset_k/3.villes.csv', skiprows=1)\n",
    "df_ville.columns = ['ville','vegan']\n",
    "\n",
    "df_ville_population = pd.read_html('https://www.insee.fr/fr/statistiques/4277602?sommaire=4318291')[0]\n",
    "\n",
    "df_villes = pd.merge(df_ville, df_ville_population, how='left', left_on='ville', right_on='Commune')\n",
    "df_villes.dropna(inplace=True)\n",
    "del df_villes['Commune']\n",
    "del df_villes['Rang']\n",
    "df_villes.columns=['Ville','Vegan','Population']\n",
    "#df_ville['Population'].astype(int)\n",
    "#df_ville['Pourcent'] = df_ville['Population']/df_ville['Vegan']\n",
    "df_villes.head()\n"
   ]
  },
  {
   "cell_type": "code",
   "execution_count": null,
   "metadata": {},
   "outputs": [],
   "source": []
  },
  {
   "cell_type": "code",
   "execution_count": null,
   "metadata": {},
   "outputs": [],
   "source": []
  },
  {
   "cell_type": "code",
   "execution_count": null,
   "metadata": {},
   "outputs": [],
   "source": []
  },
  {
   "cell_type": "code",
   "execution_count": null,
   "metadata": {},
   "outputs": [],
   "source": []
  },
  {
   "cell_type": "code",
   "execution_count": 11,
   "metadata": {},
   "outputs": [
    {
     "output_type": "execute_result",
     "data": {
      "text/plain": [
       "<folium.folium.Map at 0x17cac271eb0>"
      ],
      "text/html": "<div style=\"width:100%;\"><div style=\"position:relative;width:100%;height:0;padding-bottom:60%;\"><span style=\"color:#565656\">Make this Notebook Trusted to load map: File -> Trust Notebook</span><iframe src=\"about:blank\" style=\"position:absolute;width:100%;height:100%;left:0;top:0;border:none !important;\" data-html=PCFET0NUWVBFIGh0bWw+CjxoZWFkPiAgICAKICAgIDxtZXRhIGh0dHAtZXF1aXY9ImNvbnRlbnQtdHlwZSIgY29udGVudD0idGV4dC9odG1sOyBjaGFyc2V0PVVURi04IiAvPgogICAgCiAgICAgICAgPHNjcmlwdD4KICAgICAgICAgICAgTF9OT19UT1VDSCA9IGZhbHNlOwogICAgICAgICAgICBMX0RJU0FCTEVfM0QgPSBmYWxzZTsKICAgICAgICA8L3NjcmlwdD4KICAgIAogICAgPHNjcmlwdCBzcmM9Imh0dHBzOi8vY2RuLmpzZGVsaXZyLm5ldC9ucG0vbGVhZmxldEAxLjYuMC9kaXN0L2xlYWZsZXQuanMiPjwvc2NyaXB0PgogICAgPHNjcmlwdCBzcmM9Imh0dHBzOi8vY29kZS5qcXVlcnkuY29tL2pxdWVyeS0xLjEyLjQubWluLmpzIj48L3NjcmlwdD4KICAgIDxzY3JpcHQgc3JjPSJodHRwczovL21heGNkbi5ib290c3RyYXBjZG4uY29tL2Jvb3RzdHJhcC8zLjIuMC9qcy9ib290c3RyYXAubWluLmpzIj48L3NjcmlwdD4KICAgIDxzY3JpcHQgc3JjPSJodHRwczovL2NkbmpzLmNsb3VkZmxhcmUuY29tL2FqYXgvbGlicy9MZWFmbGV0LmF3ZXNvbWUtbWFya2Vycy8yLjAuMi9sZWFmbGV0LmF3ZXNvbWUtbWFya2Vycy5qcyI+PC9zY3JpcHQ+CiAgICA8bGluayByZWw9InN0eWxlc2hlZXQiIGhyZWY9Imh0dHBzOi8vY2RuLmpzZGVsaXZyLm5ldC9ucG0vbGVhZmxldEAxLjYuMC9kaXN0L2xlYWZsZXQuY3NzIi8+CiAgICA8bGluayByZWw9InN0eWxlc2hlZXQiIGhyZWY9Imh0dHBzOi8vbWF4Y2RuLmJvb3RzdHJhcGNkbi5jb20vYm9vdHN0cmFwLzMuMi4wL2Nzcy9ib290c3RyYXAubWluLmNzcyIvPgogICAgPGxpbmsgcmVsPSJzdHlsZXNoZWV0IiBocmVmPSJodHRwczovL21heGNkbi5ib290c3RyYXBjZG4uY29tL2Jvb3RzdHJhcC8zLjIuMC9jc3MvYm9vdHN0cmFwLXRoZW1lLm1pbi5jc3MiLz4KICAgIDxsaW5rIHJlbD0ic3R5bGVzaGVldCIgaHJlZj0iaHR0cHM6Ly9tYXhjZG4uYm9vdHN0cmFwY2RuLmNvbS9mb250LWF3ZXNvbWUvNC42LjMvY3NzL2ZvbnQtYXdlc29tZS5taW4uY3NzIi8+CiAgICA8bGluayByZWw9InN0eWxlc2hlZXQiIGhyZWY9Imh0dHBzOi8vY2RuanMuY2xvdWRmbGFyZS5jb20vYWpheC9saWJzL0xlYWZsZXQuYXdlc29tZS1tYXJrZXJzLzIuMC4yL2xlYWZsZXQuYXdlc29tZS1tYXJrZXJzLmNzcyIvPgogICAgPGxpbmsgcmVsPSJzdHlsZXNoZWV0IiBocmVmPSJodHRwczovL3Jhd2Nkbi5naXRoYWNrLmNvbS9weXRob24tdmlzdWFsaXphdGlvbi9mb2xpdW0vbWFzdGVyL2ZvbGl1bS90ZW1wbGF0ZXMvbGVhZmxldC5hd2Vzb21lLnJvdGF0ZS5jc3MiLz4KICAgIDxzdHlsZT5odG1sLCBib2R5IHt3aWR0aDogMTAwJTtoZWlnaHQ6IDEwMCU7bWFyZ2luOiAwO3BhZGRpbmc6IDA7fTwvc3R5bGU+CiAgICA8c3R5bGU+I21hcCB7cG9zaXRpb246YWJzb2x1dGU7dG9wOjA7Ym90dG9tOjA7cmlnaHQ6MDtsZWZ0OjA7fTwvc3R5bGU+CiAgICAKICAgICAgICAgICAgPG1ldGEgbmFtZT0idmlld3BvcnQiIGNvbnRlbnQ9IndpZHRoPWRldmljZS13aWR0aCwKICAgICAgICAgICAgICAgIGluaXRpYWwtc2NhbGU9MS4wLCBtYXhpbXVtLXNjYWxlPTEuMCwgdXNlci1zY2FsYWJsZT1ubyIgLz4KICAgICAgICAgICAgPHN0eWxlPgogICAgICAgICAgICAgICAgI21hcF9jOGVmMzRiZjlmNmU0OWNjOTdlMDYxYjQwZDFjZjNiOSB7CiAgICAgICAgICAgICAgICAgICAgcG9zaXRpb246IHJlbGF0aXZlOwogICAgICAgICAgICAgICAgICAgIHdpZHRoOiAxMDAuMCU7CiAgICAgICAgICAgICAgICAgICAgaGVpZ2h0OiAxMDAuMCU7CiAgICAgICAgICAgICAgICAgICAgbGVmdDogMC4wJTsKICAgICAgICAgICAgICAgICAgICB0b3A6IDAuMCU7CiAgICAgICAgICAgICAgICB9CiAgICAgICAgICAgIDwvc3R5bGU+CiAgICAgICAgCjwvaGVhZD4KPGJvZHk+ICAgIAogICAgCiAgICAgICAgICAgIDxkaXYgY2xhc3M9ImZvbGl1bS1tYXAiIGlkPSJtYXBfYzhlZjM0YmY5ZjZlNDljYzk3ZTA2MWI0MGQxY2YzYjkiID48L2Rpdj4KICAgICAgICAKPC9ib2R5Pgo8c2NyaXB0PiAgICAKICAgIAogICAgICAgICAgICB2YXIgbWFwX2M4ZWYzNGJmOWY2ZTQ5Y2M5N2UwNjFiNDBkMWNmM2I5ID0gTC5tYXAoCiAgICAgICAgICAgICAgICAibWFwX2M4ZWYzNGJmOWY2ZTQ5Y2M5N2UwNjFiNDBkMWNmM2I5IiwKICAgICAgICAgICAgICAgIHsKICAgICAgICAgICAgICAgICAgICBjZW50ZXI6IFs0NS43NjQwNDMsIDQuODM1NjU5XSwKICAgICAgICAgICAgICAgICAgICBjcnM6IEwuQ1JTLkVQU0czODU3LAogICAgICAgICAgICAgICAgICAgIHpvb206IDUsCiAgICAgICAgICAgICAgICAgICAgem9vbUNvbnRyb2w6IHRydWUsCiAgICAgICAgICAgICAgICAgICAgcHJlZmVyQ2FudmFzOiBmYWxzZSwKICAgICAgICAgICAgICAgIH0KICAgICAgICAgICAgKTsKCiAgICAgICAgICAgIAoKICAgICAgICAKICAgIAogICAgICAgICAgICB2YXIgdGlsZV9sYXllcl9hYmEyYzIwNmVlYmE0ZDlmOTgyOTViZjNmZjU1MjFlMSA9IEwudGlsZUxheWVyKAogICAgICAgICAgICAgICAgImh0dHBzOi8ve3N9LnRpbGUub3BlbnN0cmVldG1hcC5vcmcve3p9L3t4fS97eX0ucG5nIiwKICAgICAgICAgICAgICAgIHsiYXR0cmlidXRpb24iOiAiRGF0YSBieSBcdTAwMjZjb3B5OyBcdTAwM2NhIGhyZWY9XCJodHRwOi8vb3BlbnN0cmVldG1hcC5vcmdcIlx1MDAzZU9wZW5TdHJlZXRNYXBcdTAwM2MvYVx1MDAzZSwgdW5kZXIgXHUwMDNjYSBocmVmPVwiaHR0cDovL3d3dy5vcGVuc3RyZWV0bWFwLm9yZy9jb3B5cmlnaHRcIlx1MDAzZU9EYkxcdTAwM2MvYVx1MDAzZS4iLCAiZGV0ZWN0UmV0aW5hIjogZmFsc2UsICJtYXhOYXRpdmVab29tIjogMTgsICJtYXhab29tIjogMTgsICJtaW5ab29tIjogMCwgIm5vV3JhcCI6IGZhbHNlLCAib3BhY2l0eSI6IDEsICJzdWJkb21haW5zIjogImFiYyIsICJ0bXMiOiBmYWxzZX0KICAgICAgICAgICAgKS5hZGRUbyhtYXBfYzhlZjM0YmY5ZjZlNDljYzk3ZTA2MWI0MGQxY2YzYjkpOwogICAgICAgIAo8L3NjcmlwdD4= onload=\"this.contentDocument.open();this.contentDocument.write(atob(this.getAttribute('data-html')));this.contentDocument.close();\" allowfullscreen webkitallowfullscreen mozallowfullscreen></iframe></div></div>"
     },
     "metadata": {},
     "execution_count": 11
    }
   ],
   "source": [
    "latitude, longitude = 45.764043, 4.835659\n",
    "map_france = folium.Map(location=[latitude, longitude], zoom_start=5)\n",
    "map_france"
   ]
  },
  {
   "cell_type": "code",
   "execution_count": null,
   "metadata": {},
   "outputs": [],
   "source": []
  }
 ]
}